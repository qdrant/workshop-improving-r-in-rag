{
 "cells": [
  {
   "cell_type": "markdown",
   "id": "c2bbeec9-a3f0-47c0-84a1-98e467be6ee4",
   "metadata": {},
   "source": [
    "# Setting up the environment\n",
    "\n",
    "We're going to work on an existing RAG system built purely in Python, using:\n",
    "\n",
    "- [Qdrant](https://qdrant.tech/) as a vector search engine for dense, sparse and multi-vector retrieval\n",
    "- [FastEmbed](https://github.com/qdrant/fastembed) to generate all the required vector embeddings \n",
    "- [any-llm](https://mozilla-ai.github.io/any-llm/) to call an LLM of your choice using the same interface\n",
    "\n",
    "## Prerequisites\n",
    "\n",
    "- Python 3.12 or higher\n",
    "- [uv](https://docs.astral.sh/uv/) - Ultra-fast Python package manager\n",
    "- *Optionally*, [Docker](https://www.docker.com/) to run Qdrant in a local container\n",
    "\n",
    "### Installing uv\n",
    "\n",
    "If you don't have `uv` installed, you can install it using:\n",
    "\n",
    "**On macOS and Linux:**\n",
    "```bash\n",
    "curl -LsSf https://astral.sh/uv/install.sh | sh\n",
    "```\n",
    "\n",
    "**On Windows:**\n",
    "```powershell\n",
    "powershell -c \"irm https://astral.sh/uv/install.ps1 | iex\"\n",
    "```\n",
    "\n",
    "**Alternative (using pip):**\n",
    "```bash\n",
    "pip install uv\n",
    "```\n",
    "\n",
    "### Setting up the project environment\n",
    "\n",
    "Once you have `uv` installed, you can install all the dependencies with:\n",
    "\n",
    "```bash\n",
    "uv sync\n",
    "```\n",
    "\n",
    "### Running Qdrant\n",
    "\n",
    "It doesn't matter if you prefer using a local Qdrant server running in a container, or our 1GB free tier cluster. Please make sure you have a running instance on hand.\n",
    "\n",
    "#### Local Docker container\n",
    "\n",
    "If you have Docker installed on your machine, you should be able to launch an instance pretty quickly by running the following command.\n",
    "\n",
    "```bash\n",
    "docker run -p \"6333:6333\" -p \"6334:6334\" -v \"$(pwd)/qdrant_storage:/qdrant/storage:z\" \"qdrant/qdrant:v1.15.4\"\n",
    "```\n",
    "\n",
    "#### Qdrant Cloud free tier\n",
    "\n",
    "Another option is to [sign up for Qdrant Cloud](https://cloud.qdrant.io/login) and use the free tier 1GB cluster, which is available for everyone.\n",
    "\n",
    "### Setting up environmental variables\n",
    "\n",
    "The last thing we need to set up before the start is to store all the secrets as environmental variables in the `.env` file put in the `notebooks/` directory. \n",
    "\n",
    "```envfile\n",
    "# LLM provider settings\n",
    "LLM_PROVIDER=\"anthropic\"\n",
    "ANTHROPIC_API_KEY=\"...\"\n",
    "\n",
    "QDRANT_URL=\"http://localhost:6333\"\n",
    "# Qdrant API key might be left out, if you use local Docker container\n",
    "# QDRANT_API_KEY=\n",
    "```\n",
    "\n",
    "If you prefer to use a different LLM provider, please refer to the [any-llm documentation](https://mozilla-ai.github.io/any-llm/providers/). For example, if you prefer using OpenAI, then you have to set `LLM_PROVIDER=\"openai\"` and provide a valid `OPENAI_API_KEY`, while for Hugging Face `LLM_PROVIDER=\"huggingface\"` and `HF_TOKEN` will be required instead."
   ]
  },
  {
   "cell_type": "code",
   "id": "d116fef4-46f2-461d-a29d-817cbf1d7776",
   "metadata": {},
   "source": [
    "from dotenv import load_dotenv\n",
    "\n",
    "load_dotenv()"
   ],
   "outputs": [],
   "execution_count": null
  },
  {
   "cell_type": "markdown",
   "id": "3a0c1520-388f-4d89-8cf9-bd5398308d32",
   "metadata": {},
   "source": [
    "### Testing Qdrant connectivity\n",
    "\n",
    "Once the configuration is done, let's try out the connection to our Qdrant instance."
   ]
  },
  {
   "cell_type": "code",
   "id": "310421d8-2343-4b23-a74e-167ab385a5db",
   "metadata": {},
   "source": [
    "from qdrant_client import QdrantClient\n",
    "\n",
    "import os\n",
    "\n",
    "client = QdrantClient(\n",
    "    os.environ.get(\"QDRANT_URL\"), \n",
    "    api_key=os.environ.get(\"QDRANT_API_KEY\"),\n",
    ")\n",
    "client.get_collections()"
   ],
   "outputs": [],
   "execution_count": null
  },
  {
   "cell_type": "code",
   "id": "59790a81-a722-45f3-9a92-ea9d0d0fb3a0",
   "metadata": {},
   "source": [],
   "outputs": [],
   "execution_count": null
  }
 ],
 "metadata": {
  "kernelspec": {
   "display_name": "Python 3 (ipykernel)",
   "language": "python",
   "name": "python3"
  },
  "language_info": {
   "codemirror_mode": {
    "name": "ipython",
    "version": 3
   },
   "file_extension": ".py",
   "mimetype": "text/x-python",
   "name": "python",
   "nbconvert_exporter": "python",
   "pygments_lexer": "ipython3",
   "version": "3.12.7"
  }
 },
 "nbformat": 4,
 "nbformat_minor": 5
}
